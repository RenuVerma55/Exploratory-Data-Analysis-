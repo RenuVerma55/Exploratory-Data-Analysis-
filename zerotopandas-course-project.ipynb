{
 "cells": [
  {
   "cell_type": "markdown",
   "metadata": {},
   "source": [
    "# Crimes Committed Against Women in India\n",
    "This data is collated from https://data.gov.in. It has state-wise and district level data on the various crimes committed against women between 2001 to 2014. Some crimes that are included are Rape, Kidnapping and Abduction, Dowry Deaths etc.This dateset has been Downloaded form Kaggle Data set.The libreris used in this Data Analysis is Numpy,Panda,metplotlib,and seaborn. These libraries are covered in the course by Jovian.ml named as [Data Analysis with Python: Zero to Pandas](zerotopandas.com)"
   ]
  },
  {
   "cell_type": "markdown",
   "metadata": {},
   "source": [
    "## Downloading the Dataset\n",
    "the dataset has been downloaded form the kaggel dataset manually and upload it via Jupyter's GUI"
   ]
  },
  {
   "cell_type": "code",
   "execution_count": 6,
   "metadata": {},
   "outputs": [],
   "source": [
    "import pandas as pd"
   ]
  },
  {
   "cell_type": "code",
   "execution_count": 7,
   "metadata": {},
   "outputs": [],
   "source": [
    "dataset_df = pd.read_csv('crimes_against_women_2001-2014.csv')"
   ]
  },
  {
   "cell_type": "code",
   "execution_count": 8,
   "metadata": {},
   "outputs": [
    {
     "data": {
      "text/html": [
       "<div>\n",
       "<style scoped>\n",
       "    .dataframe tbody tr th:only-of-type {\n",
       "        vertical-align: middle;\n",
       "    }\n",
       "\n",
       "    .dataframe tbody tr th {\n",
       "        vertical-align: top;\n",
       "    }\n",
       "\n",
       "    .dataframe thead th {\n",
       "        text-align: right;\n",
       "    }\n",
       "</style>\n",
       "<table border=\"1\" class=\"dataframe\">\n",
       "  <thead>\n",
       "    <tr style=\"text-align: right;\">\n",
       "      <th></th>\n",
       "      <th>Unnamed: 0</th>\n",
       "      <th>STATE/UT</th>\n",
       "      <th>DISTRICT</th>\n",
       "      <th>Year</th>\n",
       "      <th>Rape</th>\n",
       "      <th>Kidnapping and Abduction</th>\n",
       "      <th>Dowry Deaths</th>\n",
       "      <th>Assault on women with intent to outrage her modesty</th>\n",
       "      <th>Insult to modesty of Women</th>\n",
       "      <th>Cruelty by Husband or his Relatives</th>\n",
       "      <th>Importation of Girls</th>\n",
       "    </tr>\n",
       "  </thead>\n",
       "  <tbody>\n",
       "    <tr>\n",
       "      <th>0</th>\n",
       "      <td>0</td>\n",
       "      <td>ANDHRA PRADESH</td>\n",
       "      <td>ADILABAD</td>\n",
       "      <td>2001</td>\n",
       "      <td>50</td>\n",
       "      <td>30</td>\n",
       "      <td>16</td>\n",
       "      <td>149</td>\n",
       "      <td>34</td>\n",
       "      <td>175</td>\n",
       "      <td>0</td>\n",
       "    </tr>\n",
       "    <tr>\n",
       "      <th>1</th>\n",
       "      <td>1</td>\n",
       "      <td>ANDHRA PRADESH</td>\n",
       "      <td>ANANTAPUR</td>\n",
       "      <td>2001</td>\n",
       "      <td>23</td>\n",
       "      <td>30</td>\n",
       "      <td>7</td>\n",
       "      <td>118</td>\n",
       "      <td>24</td>\n",
       "      <td>154</td>\n",
       "      <td>0</td>\n",
       "    </tr>\n",
       "    <tr>\n",
       "      <th>2</th>\n",
       "      <td>2</td>\n",
       "      <td>ANDHRA PRADESH</td>\n",
       "      <td>CHITTOOR</td>\n",
       "      <td>2001</td>\n",
       "      <td>27</td>\n",
       "      <td>34</td>\n",
       "      <td>14</td>\n",
       "      <td>112</td>\n",
       "      <td>83</td>\n",
       "      <td>186</td>\n",
       "      <td>0</td>\n",
       "    </tr>\n",
       "    <tr>\n",
       "      <th>3</th>\n",
       "      <td>3</td>\n",
       "      <td>ANDHRA PRADESH</td>\n",
       "      <td>CUDDAPAH</td>\n",
       "      <td>2001</td>\n",
       "      <td>20</td>\n",
       "      <td>20</td>\n",
       "      <td>17</td>\n",
       "      <td>126</td>\n",
       "      <td>38</td>\n",
       "      <td>57</td>\n",
       "      <td>0</td>\n",
       "    </tr>\n",
       "    <tr>\n",
       "      <th>4</th>\n",
       "      <td>4</td>\n",
       "      <td>ANDHRA PRADESH</td>\n",
       "      <td>EAST GODAVARI</td>\n",
       "      <td>2001</td>\n",
       "      <td>23</td>\n",
       "      <td>26</td>\n",
       "      <td>12</td>\n",
       "      <td>109</td>\n",
       "      <td>58</td>\n",
       "      <td>247</td>\n",
       "      <td>0</td>\n",
       "    </tr>\n",
       "    <tr>\n",
       "      <th>...</th>\n",
       "      <td>...</td>\n",
       "      <td>...</td>\n",
       "      <td>...</td>\n",
       "      <td>...</td>\n",
       "      <td>...</td>\n",
       "      <td>...</td>\n",
       "      <td>...</td>\n",
       "      <td>...</td>\n",
       "      <td>...</td>\n",
       "      <td>...</td>\n",
       "      <td>...</td>\n",
       "    </tr>\n",
       "    <tr>\n",
       "      <th>10672</th>\n",
       "      <td>832</td>\n",
       "      <td>Lakshadweep</td>\n",
       "      <td>Lakshadweep</td>\n",
       "      <td>2014</td>\n",
       "      <td>1</td>\n",
       "      <td>0</td>\n",
       "      <td>0</td>\n",
       "      <td>1</td>\n",
       "      <td>2</td>\n",
       "      <td>0</td>\n",
       "      <td>0</td>\n",
       "    </tr>\n",
       "    <tr>\n",
       "      <th>10673</th>\n",
       "      <td>833</td>\n",
       "      <td>Lakshadweep</td>\n",
       "      <td>Total District(s)</td>\n",
       "      <td>2014</td>\n",
       "      <td>1</td>\n",
       "      <td>0</td>\n",
       "      <td>0</td>\n",
       "      <td>1</td>\n",
       "      <td>2</td>\n",
       "      <td>0</td>\n",
       "      <td>0</td>\n",
       "    </tr>\n",
       "    <tr>\n",
       "      <th>10674</th>\n",
       "      <td>834</td>\n",
       "      <td>Puducherry</td>\n",
       "      <td>Karaikal</td>\n",
       "      <td>2014</td>\n",
       "      <td>3</td>\n",
       "      <td>1</td>\n",
       "      <td>0</td>\n",
       "      <td>12</td>\n",
       "      <td>1</td>\n",
       "      <td>1</td>\n",
       "      <td>0</td>\n",
       "    </tr>\n",
       "    <tr>\n",
       "      <th>10675</th>\n",
       "      <td>835</td>\n",
       "      <td>Puducherry</td>\n",
       "      <td>Puducherry</td>\n",
       "      <td>2014</td>\n",
       "      <td>7</td>\n",
       "      <td>6</td>\n",
       "      <td>1</td>\n",
       "      <td>20</td>\n",
       "      <td>7</td>\n",
       "      <td>3</td>\n",
       "      <td>0</td>\n",
       "    </tr>\n",
       "    <tr>\n",
       "      <th>10676</th>\n",
       "      <td>836</td>\n",
       "      <td>Puducherry</td>\n",
       "      <td>Total District(s)</td>\n",
       "      <td>2014</td>\n",
       "      <td>10</td>\n",
       "      <td>7</td>\n",
       "      <td>1</td>\n",
       "      <td>32</td>\n",
       "      <td>8</td>\n",
       "      <td>4</td>\n",
       "      <td>0</td>\n",
       "    </tr>\n",
       "  </tbody>\n",
       "</table>\n",
       "<p>10677 rows × 11 columns</p>\n",
       "</div>"
      ],
      "text/plain": [
       "       Unnamed: 0        STATE/UT           DISTRICT  Year  Rape  \\\n",
       "0               0  ANDHRA PRADESH           ADILABAD  2001    50   \n",
       "1               1  ANDHRA PRADESH          ANANTAPUR  2001    23   \n",
       "2               2  ANDHRA PRADESH           CHITTOOR  2001    27   \n",
       "3               3  ANDHRA PRADESH           CUDDAPAH  2001    20   \n",
       "4               4  ANDHRA PRADESH      EAST GODAVARI  2001    23   \n",
       "...           ...             ...                ...   ...   ...   \n",
       "10672         832     Lakshadweep        Lakshadweep  2014     1   \n",
       "10673         833     Lakshadweep  Total District(s)  2014     1   \n",
       "10674         834      Puducherry           Karaikal  2014     3   \n",
       "10675         835      Puducherry         Puducherry  2014     7   \n",
       "10676         836      Puducherry  Total District(s)  2014    10   \n",
       "\n",
       "       Kidnapping and Abduction  Dowry Deaths  \\\n",
       "0                            30            16   \n",
       "1                            30             7   \n",
       "2                            34            14   \n",
       "3                            20            17   \n",
       "4                            26            12   \n",
       "...                         ...           ...   \n",
       "10672                         0             0   \n",
       "10673                         0             0   \n",
       "10674                         1             0   \n",
       "10675                         6             1   \n",
       "10676                         7             1   \n",
       "\n",
       "       Assault on women with intent to outrage her modesty  \\\n",
       "0                                                    149     \n",
       "1                                                    118     \n",
       "2                                                    112     \n",
       "3                                                    126     \n",
       "4                                                    109     \n",
       "...                                                  ...     \n",
       "10672                                                  1     \n",
       "10673                                                  1     \n",
       "10674                                                 12     \n",
       "10675                                                 20     \n",
       "10676                                                 32     \n",
       "\n",
       "       Insult to modesty of Women  Cruelty by Husband or his Relatives  \\\n",
       "0                              34                                  175   \n",
       "1                              24                                  154   \n",
       "2                              83                                  186   \n",
       "3                              38                                   57   \n",
       "4                              58                                  247   \n",
       "...                           ...                                  ...   \n",
       "10672                           2                                    0   \n",
       "10673                           2                                    0   \n",
       "10674                           1                                    1   \n",
       "10675                           7                                    3   \n",
       "10676                           8                                    4   \n",
       "\n",
       "       Importation of Girls  \n",
       "0                         0  \n",
       "1                         0  \n",
       "2                         0  \n",
       "3                         0  \n",
       "4                         0  \n",
       "...                     ...  \n",
       "10672                     0  \n",
       "10673                     0  \n",
       "10674                     0  \n",
       "10675                     0  \n",
       "10676                     0  \n",
       "\n",
       "[10677 rows x 11 columns]"
      ]
     },
     "execution_count": 8,
     "metadata": {},
     "output_type": "execute_result"
    }
   ],
   "source": [
    "dataset_df"
   ]
  },
  {
   "cell_type": "code",
   "execution_count": 9,
   "metadata": {},
   "outputs": [
    {
     "data": {
      "text/plain": [
       "(10677, 11)"
      ]
     },
     "execution_count": 9,
     "metadata": {},
     "output_type": "execute_result"
    }
   ],
   "source": [
    "dataset_df.shape"
   ]
  },
  {
   "cell_type": "markdown",
   "metadata": {},
   "source": [
    "There are 10678 Row in this data set.It has state-wise and district level data on the various crimes committed against women between 2001 to 2014.so number of rows should be (number of district *number of year)"
   ]
  },
  {
   "cell_type": "code",
   "execution_count": 17,
   "metadata": {},
   "outputs": [
    {
     "data": {
      "text/plain": [
       "10052"
      ]
     },
     "execution_count": 17,
     "metadata": {},
     "output_type": "execute_result"
    }
   ],
   "source": [
    "718*14"
   ]
  },
  {
   "cell_type": "markdown",
   "metadata": {},
   "source": [
    "But this dataset shows 10677 row."
   ]
  },
  {
   "cell_type": "code",
   "execution_count": 18,
   "metadata": {},
   "outputs": [],
   "source": [
    "!pip install jovian --upgrade -q"
   ]
  },
  {
   "cell_type": "code",
   "execution_count": 19,
   "metadata": {},
   "outputs": [],
   "source": [
    "import jovian"
   ]
  },
  {
   "cell_type": "code",
   "execution_count": 20,
   "metadata": {},
   "outputs": [
    {
     "data": {
      "text/plain": [
       "<function jovian.utils.commit.commit(message=None, files=[], outputs=[], environment=None, privacy='auto', filename=None, project=None, new_project=None, git_commit=False, git_message='auto', **kwargs)>"
      ]
     },
     "execution_count": 20,
     "metadata": {},
     "output_type": "execute_result"
    }
   ],
   "source": [
    "jovian.commit"
   ]
  },
  {
   "cell_type": "markdown",
   "metadata": {},
   "source": [
    "## Data Preparation and Cleaning\n",
    "\n",
    "Since number of row are greater than the number of district * number of Years.There is need to check for the extra coloum present here."
   ]
  },
  {
   "cell_type": "code",
   "execution_count": 21,
   "metadata": {
    "scrolled": true
   },
   "outputs": [
    {
     "data": {
      "text/plain": [
       "0                 ADILABAD\n",
       "1                ANANTAPUR\n",
       "2                 CHITTOOR\n",
       "3                 CUDDAPAH\n",
       "4            EAST GODAVARI\n",
       "               ...        \n",
       "10672          Lakshadweep\n",
       "10673    Total District(s)\n",
       "10674             Karaikal\n",
       "10675           Puducherry\n",
       "10676    Total District(s)\n",
       "Name: DISTRICT, Length: 10677, dtype: object"
      ]
     },
     "execution_count": 21,
     "metadata": {},
     "output_type": "execute_result"
    }
   ],
   "source": [
    "dataset_df.DISTRICT"
   ]
  },
  {
   "cell_type": "markdown",
   "metadata": {},
   "source": [
    "To start with the very basic of data cleaning, let's find out if any of the columns have any Null or missing values"
   ]
  },
  {
   "cell_type": "code",
   "execution_count": 22,
   "metadata": {},
   "outputs": [],
   "source": [
    "overall_crime = dataset_df.isna().sum()"
   ]
  },
  {
   "cell_type": "code",
   "execution_count": 23,
   "metadata": {
    "scrolled": true
   },
   "outputs": [
    {
     "data": {
      "text/plain": [
       "Unnamed: 0                                             0\n",
       "STATE/UT                                               0\n",
       "DISTRICT                                               0\n",
       "Year                                                   0\n",
       "Rape                                                   0\n",
       "Kidnapping and Abduction                               0\n",
       "Dowry Deaths                                           0\n",
       "Assault on women with intent to outrage her modesty    0\n",
       "Insult to modesty of Women                             0\n",
       "Cruelty by Husband or his Relatives                    0\n",
       "Importation of Girls                                   0\n",
       "dtype: int64"
      ]
     },
     "execution_count": 23,
     "metadata": {},
     "output_type": "execute_result"
    }
   ],
   "source": [
    "overall_crime"
   ]
  },
  {
   "cell_type": "markdown",
   "metadata": {},
   "source": [
    "There is no Nan Value in the dataset"
   ]
  },
  {
   "cell_type": "markdown",
   "metadata": {},
   "source": [
    "lets find the total number of district in the data set"
   ]
  },
  {
   "cell_type": "code",
   "execution_count": 24,
   "metadata": {},
   "outputs": [],
   "source": [
    "districts = len(dataset_df.DISTRICT.unique())"
   ]
  },
  {
   "cell_type": "code",
   "execution_count": 25,
   "metadata": {},
   "outputs": [
    {
     "data": {
      "text/plain": [
       "1605"
      ]
     },
     "execution_count": 25,
     "metadata": {},
     "output_type": "execute_result"
    }
   ],
   "source": [
    "districts"
   ]
  },
  {
   "cell_type": "markdown",
   "metadata": {},
   "source": [
    "But there are 718 districts in India, in total, which means there is messy or false datas in a huge amount, in this case, we better drop the column \"District\" and also \"Unnamed: 0\", as it is of no use, in our data analysis process."
   ]
  },
  {
   "cell_type": "code",
   "execution_count": 26,
   "metadata": {},
   "outputs": [
    {
     "data": {
      "text/html": [
       "<div>\n",
       "<style scoped>\n",
       "    .dataframe tbody tr th:only-of-type {\n",
       "        vertical-align: middle;\n",
       "    }\n",
       "\n",
       "    .dataframe tbody tr th {\n",
       "        vertical-align: top;\n",
       "    }\n",
       "\n",
       "    .dataframe thead th {\n",
       "        text-align: right;\n",
       "    }\n",
       "</style>\n",
       "<table border=\"1\" class=\"dataframe\">\n",
       "  <thead>\n",
       "    <tr style=\"text-align: right;\">\n",
       "      <th></th>\n",
       "      <th>STATE/UT</th>\n",
       "      <th>Year</th>\n",
       "      <th>Rape</th>\n",
       "      <th>Kidnapping and Abduction</th>\n",
       "      <th>Dowry Deaths</th>\n",
       "      <th>Assault on women with intent to outrage her modesty</th>\n",
       "      <th>Insult to modesty of Women</th>\n",
       "      <th>Cruelty by Husband or his Relatives</th>\n",
       "      <th>Importation of Girls</th>\n",
       "    </tr>\n",
       "  </thead>\n",
       "  <tbody>\n",
       "    <tr>\n",
       "      <th>0</th>\n",
       "      <td>ANDHRA PRADESH</td>\n",
       "      <td>2001</td>\n",
       "      <td>50</td>\n",
       "      <td>30</td>\n",
       "      <td>16</td>\n",
       "      <td>149</td>\n",
       "      <td>34</td>\n",
       "      <td>175</td>\n",
       "      <td>0</td>\n",
       "    </tr>\n",
       "    <tr>\n",
       "      <th>1</th>\n",
       "      <td>ANDHRA PRADESH</td>\n",
       "      <td>2001</td>\n",
       "      <td>23</td>\n",
       "      <td>30</td>\n",
       "      <td>7</td>\n",
       "      <td>118</td>\n",
       "      <td>24</td>\n",
       "      <td>154</td>\n",
       "      <td>0</td>\n",
       "    </tr>\n",
       "    <tr>\n",
       "      <th>2</th>\n",
       "      <td>ANDHRA PRADESH</td>\n",
       "      <td>2001</td>\n",
       "      <td>27</td>\n",
       "      <td>34</td>\n",
       "      <td>14</td>\n",
       "      <td>112</td>\n",
       "      <td>83</td>\n",
       "      <td>186</td>\n",
       "      <td>0</td>\n",
       "    </tr>\n",
       "    <tr>\n",
       "      <th>3</th>\n",
       "      <td>ANDHRA PRADESH</td>\n",
       "      <td>2001</td>\n",
       "      <td>20</td>\n",
       "      <td>20</td>\n",
       "      <td>17</td>\n",
       "      <td>126</td>\n",
       "      <td>38</td>\n",
       "      <td>57</td>\n",
       "      <td>0</td>\n",
       "    </tr>\n",
       "    <tr>\n",
       "      <th>4</th>\n",
       "      <td>ANDHRA PRADESH</td>\n",
       "      <td>2001</td>\n",
       "      <td>23</td>\n",
       "      <td>26</td>\n",
       "      <td>12</td>\n",
       "      <td>109</td>\n",
       "      <td>58</td>\n",
       "      <td>247</td>\n",
       "      <td>0</td>\n",
       "    </tr>\n",
       "    <tr>\n",
       "      <th>...</th>\n",
       "      <td>...</td>\n",
       "      <td>...</td>\n",
       "      <td>...</td>\n",
       "      <td>...</td>\n",
       "      <td>...</td>\n",
       "      <td>...</td>\n",
       "      <td>...</td>\n",
       "      <td>...</td>\n",
       "      <td>...</td>\n",
       "    </tr>\n",
       "    <tr>\n",
       "      <th>10672</th>\n",
       "      <td>Lakshadweep</td>\n",
       "      <td>2014</td>\n",
       "      <td>1</td>\n",
       "      <td>0</td>\n",
       "      <td>0</td>\n",
       "      <td>1</td>\n",
       "      <td>2</td>\n",
       "      <td>0</td>\n",
       "      <td>0</td>\n",
       "    </tr>\n",
       "    <tr>\n",
       "      <th>10673</th>\n",
       "      <td>Lakshadweep</td>\n",
       "      <td>2014</td>\n",
       "      <td>1</td>\n",
       "      <td>0</td>\n",
       "      <td>0</td>\n",
       "      <td>1</td>\n",
       "      <td>2</td>\n",
       "      <td>0</td>\n",
       "      <td>0</td>\n",
       "    </tr>\n",
       "    <tr>\n",
       "      <th>10674</th>\n",
       "      <td>Puducherry</td>\n",
       "      <td>2014</td>\n",
       "      <td>3</td>\n",
       "      <td>1</td>\n",
       "      <td>0</td>\n",
       "      <td>12</td>\n",
       "      <td>1</td>\n",
       "      <td>1</td>\n",
       "      <td>0</td>\n",
       "    </tr>\n",
       "    <tr>\n",
       "      <th>10675</th>\n",
       "      <td>Puducherry</td>\n",
       "      <td>2014</td>\n",
       "      <td>7</td>\n",
       "      <td>6</td>\n",
       "      <td>1</td>\n",
       "      <td>20</td>\n",
       "      <td>7</td>\n",
       "      <td>3</td>\n",
       "      <td>0</td>\n",
       "    </tr>\n",
       "    <tr>\n",
       "      <th>10676</th>\n",
       "      <td>Puducherry</td>\n",
       "      <td>2014</td>\n",
       "      <td>10</td>\n",
       "      <td>7</td>\n",
       "      <td>1</td>\n",
       "      <td>32</td>\n",
       "      <td>8</td>\n",
       "      <td>4</td>\n",
       "      <td>0</td>\n",
       "    </tr>\n",
       "  </tbody>\n",
       "</table>\n",
       "<p>10677 rows × 9 columns</p>\n",
       "</div>"
      ],
      "text/plain": [
       "             STATE/UT  Year  Rape  Kidnapping and Abduction  Dowry Deaths  \\\n",
       "0      ANDHRA PRADESH  2001    50                        30            16   \n",
       "1      ANDHRA PRADESH  2001    23                        30             7   \n",
       "2      ANDHRA PRADESH  2001    27                        34            14   \n",
       "3      ANDHRA PRADESH  2001    20                        20            17   \n",
       "4      ANDHRA PRADESH  2001    23                        26            12   \n",
       "...               ...   ...   ...                       ...           ...   \n",
       "10672     Lakshadweep  2014     1                         0             0   \n",
       "10673     Lakshadweep  2014     1                         0             0   \n",
       "10674      Puducherry  2014     3                         1             0   \n",
       "10675      Puducherry  2014     7                         6             1   \n",
       "10676      Puducherry  2014    10                         7             1   \n",
       "\n",
       "       Assault on women with intent to outrage her modesty  \\\n",
       "0                                                    149     \n",
       "1                                                    118     \n",
       "2                                                    112     \n",
       "3                                                    126     \n",
       "4                                                    109     \n",
       "...                                                  ...     \n",
       "10672                                                  1     \n",
       "10673                                                  1     \n",
       "10674                                                 12     \n",
       "10675                                                 20     \n",
       "10676                                                 32     \n",
       "\n",
       "       Insult to modesty of Women  Cruelty by Husband or his Relatives  \\\n",
       "0                              34                                  175   \n",
       "1                              24                                  154   \n",
       "2                              83                                  186   \n",
       "3                              38                                   57   \n",
       "4                              58                                  247   \n",
       "...                           ...                                  ...   \n",
       "10672                           2                                    0   \n",
       "10673                           2                                    0   \n",
       "10674                           1                                    1   \n",
       "10675                           7                                    3   \n",
       "10676                           8                                    4   \n",
       "\n",
       "       Importation of Girls  \n",
       "0                         0  \n",
       "1                         0  \n",
       "2                         0  \n",
       "3                         0  \n",
       "4                         0  \n",
       "...                     ...  \n",
       "10672                     0  \n",
       "10673                     0  \n",
       "10674                     0  \n",
       "10675                     0  \n",
       "10676                     0  \n",
       "\n",
       "[10677 rows x 9 columns]"
      ]
     },
     "execution_count": 26,
     "metadata": {},
     "output_type": "execute_result"
    }
   ],
   "source": [
    "dataset_df.drop(['DISTRICT', 'Unnamed: 0'], axis = 1)\n"
   ]
  },
  {
   "cell_type": "markdown",
   "metadata": {},
   "source": [
    "lets analysis data of 'STATE/UT' column"
   ]
  },
  {
   "cell_type": "code",
   "execution_count": 27,
   "metadata": {},
   "outputs": [
    {
     "data": {
      "text/plain": [
       "array(['ANDHRA PRADESH', 'ARUNACHAL PRADESH', 'ASSAM', 'BIHAR',\n",
       "       'CHHATTISGARH', 'GOA', 'GUJARAT', 'HARYANA', 'HIMACHAL PRADESH',\n",
       "       'JAMMU & KASHMIR', 'JHARKHAND', 'KARNATAKA', 'KERALA',\n",
       "       'MADHYA PRADESH', 'MAHARASHTRA', 'MANIPUR', 'MEGHALAYA', 'MIZORAM',\n",
       "       'NAGALAND', 'ODISHA', 'PUNJAB', 'RAJASTHAN', 'SIKKIM',\n",
       "       'TAMIL NADU', 'TRIPURA', 'UTTAR PRADESH', 'UTTARAKHAND',\n",
       "       'WEST BENGAL', 'A & N ISLANDS', 'CHANDIGARH', 'D & N HAVELI',\n",
       "       'DAMAN & DIU', 'DELHI', 'LAKSHADWEEP', 'PUDUCHERRY',\n",
       "       'Andhra Pradesh', 'Arunachal Pradesh', 'Assam', 'Bihar',\n",
       "       'Chhattisgarh', 'Goa', 'Gujarat', 'Haryana', 'Himachal Pradesh',\n",
       "       'Jammu & Kashmir', 'Jharkhand', 'Karnataka', 'Kerala',\n",
       "       'Madhya Pradesh', 'Maharashtra', 'Manipur', 'Meghalaya', 'Mizoram',\n",
       "       'Nagaland', 'Odisha', 'Punjab', 'Rajasthan', 'Sikkim',\n",
       "       'Tamil Nadu', 'Tripura', 'Uttar Pradesh', 'Uttarakhand',\n",
       "       'West Bengal', 'A&N Islands', 'Chandigarh', 'D&N Haveli',\n",
       "       'Daman & Diu', 'Delhi UT', 'Lakshadweep', 'Puducherry',\n",
       "       'Telangana', 'A & N Islands'], dtype=object)"
      ]
     },
     "execution_count": 27,
     "metadata": {},
     "output_type": "execute_result"
    }
   ],
   "source": [
    "\n",
    "(dataset_df['STATE/UT'].unique())"
   ]
  },
  {
   "cell_type": "code",
   "execution_count": 28,
   "metadata": {},
   "outputs": [
    {
     "data": {
      "text/plain": [
       "72"
      ]
     },
     "execution_count": 28,
     "metadata": {},
     "output_type": "execute_result"
    }
   ],
   "source": [
    "len(dataset_df['STATE/UT'].unique())"
   ]
  },
  {
   "cell_type": "markdown",
   "metadata": {},
   "source": [
    "According to above dataset ,total number of state /UT are not correct. because of upper and lower case. so lets convert all state/ut data in lower case."
   ]
  },
  {
   "cell_type": "code",
   "execution_count": 29,
   "metadata": {},
   "outputs": [
    {
     "name": "stdout",
     "output_type": "stream",
     "text": [
      "       Unnamed: 0        STATE/UT           DISTRICT  Year  Rape  \\\n",
      "0               0  andhra pradesh           ADILABAD  2001    50   \n",
      "1               1  andhra pradesh          ANANTAPUR  2001    23   \n",
      "2               2  andhra pradesh           CHITTOOR  2001    27   \n",
      "3               3  andhra pradesh           CUDDAPAH  2001    20   \n",
      "4               4  andhra pradesh      EAST GODAVARI  2001    23   \n",
      "...           ...             ...                ...   ...   ...   \n",
      "10672         832     lakshadweep        Lakshadweep  2014     1   \n",
      "10673         833     lakshadweep  Total District(s)  2014     1   \n",
      "10674         834      puducherry           Karaikal  2014     3   \n",
      "10675         835      puducherry         Puducherry  2014     7   \n",
      "10676         836      puducherry  Total District(s)  2014    10   \n",
      "\n",
      "       Kidnapping and Abduction  Dowry Deaths  \\\n",
      "0                            30            16   \n",
      "1                            30             7   \n",
      "2                            34            14   \n",
      "3                            20            17   \n",
      "4                            26            12   \n",
      "...                         ...           ...   \n",
      "10672                         0             0   \n",
      "10673                         0             0   \n",
      "10674                         1             0   \n",
      "10675                         6             1   \n",
      "10676                         7             1   \n",
      "\n",
      "       Assault on women with intent to outrage her modesty  \\\n",
      "0                                                    149     \n",
      "1                                                    118     \n",
      "2                                                    112     \n",
      "3                                                    126     \n",
      "4                                                    109     \n",
      "...                                                  ...     \n",
      "10672                                                  1     \n",
      "10673                                                  1     \n",
      "10674                                                 12     \n",
      "10675                                                 20     \n",
      "10676                                                 32     \n",
      "\n",
      "       Insult to modesty of Women  Cruelty by Husband or his Relatives  \\\n",
      "0                              34                                  175   \n",
      "1                              24                                  154   \n",
      "2                              83                                  186   \n",
      "3                              38                                   57   \n",
      "4                              58                                  247   \n",
      "...                           ...                                  ...   \n",
      "10672                           2                                    0   \n",
      "10673                           2                                    0   \n",
      "10674                           1                                    1   \n",
      "10675                           7                                    3   \n",
      "10676                           8                                    4   \n",
      "\n",
      "       Importation of Girls  \n",
      "0                         0  \n",
      "1                         0  \n",
      "2                         0  \n",
      "3                         0  \n",
      "4                         0  \n",
      "...                     ...  \n",
      "10672                     0  \n",
      "10673                     0  \n",
      "10674                     0  \n",
      "10675                     0  \n",
      "10676                     0  \n",
      "\n",
      "[10677 rows x 11 columns]\n"
     ]
    }
   ],
   "source": [
    "dataset_df['STATE/UT'] = dataset_df['STATE/UT'].str.lower()\n",
    "\n",
    "print (dataset_df)"
   ]
  },
  {
   "cell_type": "code",
   "execution_count": 30,
   "metadata": {},
   "outputs": [
    {
     "data": {
      "text/plain": [
       "39"
      ]
     },
     "execution_count": 30,
     "metadata": {},
     "output_type": "execute_result"
    }
   ],
   "source": [
    "len(dataset_df['STATE/UT'].unique())"
   ]
  },
  {
   "cell_type": "code",
   "execution_count": 31,
   "metadata": {},
   "outputs": [
    {
     "data": {
      "text/plain": [
       "array(['andhra pradesh', 'arunachal pradesh', 'assam', 'bihar',\n",
       "       'chhattisgarh', 'goa', 'gujarat', 'haryana', 'himachal pradesh',\n",
       "       'jammu & kashmir', 'jharkhand', 'karnataka', 'kerala',\n",
       "       'madhya pradesh', 'maharashtra', 'manipur', 'meghalaya', 'mizoram',\n",
       "       'nagaland', 'odisha', 'punjab', 'rajasthan', 'sikkim',\n",
       "       'tamil nadu', 'tripura', 'uttar pradesh', 'uttarakhand',\n",
       "       'west bengal', 'a & n islands', 'chandigarh', 'd & n haveli',\n",
       "       'daman & diu', 'delhi', 'lakshadweep', 'puducherry', 'a&n islands',\n",
       "       'd&n haveli', 'delhi ut', 'telangana'], dtype=object)"
      ]
     },
     "execution_count": 31,
     "metadata": {},
     "output_type": "execute_result"
    }
   ],
   "source": [
    "(dataset_df['STATE/UT'].unique())"
   ]
  },
  {
   "cell_type": "markdown",
   "metadata": {},
   "source": [
    "Now in the above list a&N island and delhi ut and d & n HAveli are occuring twice which needs to replace the data."
   ]
  },
  {
   "cell_type": "code",
   "execution_count": 32,
   "metadata": {},
   "outputs": [],
   "source": [
    "dataset_df['STATE/UT'].replace(\"a&n islands\", \"a & n islands\", inplace = True)\n",
    "dataset_df['STATE/UT'].replace(\"d&n haveli\", \"d & n haveli\", inplace = True)\n",
    "dataset_df['STATE/UT'].replace(\"delhi ut\", \"delhi\", inplace = True)"
   ]
  },
  {
   "cell_type": "code",
   "execution_count": 33,
   "metadata": {},
   "outputs": [
    {
     "data": {
      "text/plain": [
       "array(['andhra pradesh', 'arunachal pradesh', 'assam', 'bihar',\n",
       "       'chhattisgarh', 'goa', 'gujarat', 'haryana', 'himachal pradesh',\n",
       "       'jammu & kashmir', 'jharkhand', 'karnataka', 'kerala',\n",
       "       'madhya pradesh', 'maharashtra', 'manipur', 'meghalaya', 'mizoram',\n",
       "       'nagaland', 'odisha', 'punjab', 'rajasthan', 'sikkim',\n",
       "       'tamil nadu', 'tripura', 'uttar pradesh', 'uttarakhand',\n",
       "       'west bengal', 'a & n islands', 'chandigarh', 'd & n haveli',\n",
       "       'daman & diu', 'delhi', 'lakshadweep', 'puducherry', 'telangana'],\n",
       "      dtype=object)"
      ]
     },
     "execution_count": 33,
     "metadata": {},
     "output_type": "execute_result"
    }
   ],
   "source": [
    "dataset_df['STATE/UT'].unique()"
   ]
  },
  {
   "cell_type": "code",
   "execution_count": 34,
   "metadata": {},
   "outputs": [
    {
     "data": {
      "text/plain": [
       "36"
      ]
     },
     "execution_count": 34,
     "metadata": {},
     "output_type": "execute_result"
    }
   ],
   "source": [
    "len(dataset_df['STATE/UT'].unique())"
   ]
  },
  {
   "cell_type": "code",
   "execution_count": 35,
   "metadata": {},
   "outputs": [],
   "source": [
    "dataset_df.rename( columns = {'Kidnapping and Abduction':'Kidnapping_Abduction','Dowry Deaths':'Dowry_Deaths',\n",
    "                             'Assault on women with intent to outrage her modesty':'Hurting_of_womens_modesty',\n",
    "                             'Insult to modesty of Women':'Insult_to_womens_modesty',\n",
    "                             'Cruelty by Husband or his Relatives':'Domestic_Cruelty',\n",
    "                             'Importation of Girls':'Importation_of_Girls'}, inplace = True)"
   ]
  },
  {
   "cell_type": "code",
   "execution_count": 36,
   "metadata": {},
   "outputs": [
    {
     "data": {
      "text/html": [
       "<div>\n",
       "<style scoped>\n",
       "    .dataframe tbody tr th:only-of-type {\n",
       "        vertical-align: middle;\n",
       "    }\n",
       "\n",
       "    .dataframe tbody tr th {\n",
       "        vertical-align: top;\n",
       "    }\n",
       "\n",
       "    .dataframe thead th {\n",
       "        text-align: right;\n",
       "    }\n",
       "</style>\n",
       "<table border=\"1\" class=\"dataframe\">\n",
       "  <thead>\n",
       "    <tr style=\"text-align: right;\">\n",
       "      <th></th>\n",
       "      <th>Unnamed: 0</th>\n",
       "      <th>STATE/UT</th>\n",
       "      <th>DISTRICT</th>\n",
       "      <th>Year</th>\n",
       "      <th>Rape</th>\n",
       "      <th>Kidnapping_Abduction</th>\n",
       "      <th>Dowry_Deaths</th>\n",
       "      <th>Hurting_of_womens_modesty</th>\n",
       "      <th>Insult_to_womens_modesty</th>\n",
       "      <th>Domestic_Cruelty</th>\n",
       "      <th>Importation_of_Girls</th>\n",
       "    </tr>\n",
       "  </thead>\n",
       "  <tbody>\n",
       "    <tr>\n",
       "      <th>0</th>\n",
       "      <td>0</td>\n",
       "      <td>andhra pradesh</td>\n",
       "      <td>ADILABAD</td>\n",
       "      <td>2001</td>\n",
       "      <td>50</td>\n",
       "      <td>30</td>\n",
       "      <td>16</td>\n",
       "      <td>149</td>\n",
       "      <td>34</td>\n",
       "      <td>175</td>\n",
       "      <td>0</td>\n",
       "    </tr>\n",
       "    <tr>\n",
       "      <th>1</th>\n",
       "      <td>1</td>\n",
       "      <td>andhra pradesh</td>\n",
       "      <td>ANANTAPUR</td>\n",
       "      <td>2001</td>\n",
       "      <td>23</td>\n",
       "      <td>30</td>\n",
       "      <td>7</td>\n",
       "      <td>118</td>\n",
       "      <td>24</td>\n",
       "      <td>154</td>\n",
       "      <td>0</td>\n",
       "    </tr>\n",
       "    <tr>\n",
       "      <th>2</th>\n",
       "      <td>2</td>\n",
       "      <td>andhra pradesh</td>\n",
       "      <td>CHITTOOR</td>\n",
       "      <td>2001</td>\n",
       "      <td>27</td>\n",
       "      <td>34</td>\n",
       "      <td>14</td>\n",
       "      <td>112</td>\n",
       "      <td>83</td>\n",
       "      <td>186</td>\n",
       "      <td>0</td>\n",
       "    </tr>\n",
       "    <tr>\n",
       "      <th>3</th>\n",
       "      <td>3</td>\n",
       "      <td>andhra pradesh</td>\n",
       "      <td>CUDDAPAH</td>\n",
       "      <td>2001</td>\n",
       "      <td>20</td>\n",
       "      <td>20</td>\n",
       "      <td>17</td>\n",
       "      <td>126</td>\n",
       "      <td>38</td>\n",
       "      <td>57</td>\n",
       "      <td>0</td>\n",
       "    </tr>\n",
       "    <tr>\n",
       "      <th>4</th>\n",
       "      <td>4</td>\n",
       "      <td>andhra pradesh</td>\n",
       "      <td>EAST GODAVARI</td>\n",
       "      <td>2001</td>\n",
       "      <td>23</td>\n",
       "      <td>26</td>\n",
       "      <td>12</td>\n",
       "      <td>109</td>\n",
       "      <td>58</td>\n",
       "      <td>247</td>\n",
       "      <td>0</td>\n",
       "    </tr>\n",
       "    <tr>\n",
       "      <th>...</th>\n",
       "      <td>...</td>\n",
       "      <td>...</td>\n",
       "      <td>...</td>\n",
       "      <td>...</td>\n",
       "      <td>...</td>\n",
       "      <td>...</td>\n",
       "      <td>...</td>\n",
       "      <td>...</td>\n",
       "      <td>...</td>\n",
       "      <td>...</td>\n",
       "      <td>...</td>\n",
       "    </tr>\n",
       "    <tr>\n",
       "      <th>10672</th>\n",
       "      <td>832</td>\n",
       "      <td>lakshadweep</td>\n",
       "      <td>Lakshadweep</td>\n",
       "      <td>2014</td>\n",
       "      <td>1</td>\n",
       "      <td>0</td>\n",
       "      <td>0</td>\n",
       "      <td>1</td>\n",
       "      <td>2</td>\n",
       "      <td>0</td>\n",
       "      <td>0</td>\n",
       "    </tr>\n",
       "    <tr>\n",
       "      <th>10673</th>\n",
       "      <td>833</td>\n",
       "      <td>lakshadweep</td>\n",
       "      <td>Total District(s)</td>\n",
       "      <td>2014</td>\n",
       "      <td>1</td>\n",
       "      <td>0</td>\n",
       "      <td>0</td>\n",
       "      <td>1</td>\n",
       "      <td>2</td>\n",
       "      <td>0</td>\n",
       "      <td>0</td>\n",
       "    </tr>\n",
       "    <tr>\n",
       "      <th>10674</th>\n",
       "      <td>834</td>\n",
       "      <td>puducherry</td>\n",
       "      <td>Karaikal</td>\n",
       "      <td>2014</td>\n",
       "      <td>3</td>\n",
       "      <td>1</td>\n",
       "      <td>0</td>\n",
       "      <td>12</td>\n",
       "      <td>1</td>\n",
       "      <td>1</td>\n",
       "      <td>0</td>\n",
       "    </tr>\n",
       "    <tr>\n",
       "      <th>10675</th>\n",
       "      <td>835</td>\n",
       "      <td>puducherry</td>\n",
       "      <td>Puducherry</td>\n",
       "      <td>2014</td>\n",
       "      <td>7</td>\n",
       "      <td>6</td>\n",
       "      <td>1</td>\n",
       "      <td>20</td>\n",
       "      <td>7</td>\n",
       "      <td>3</td>\n",
       "      <td>0</td>\n",
       "    </tr>\n",
       "    <tr>\n",
       "      <th>10676</th>\n",
       "      <td>836</td>\n",
       "      <td>puducherry</td>\n",
       "      <td>Total District(s)</td>\n",
       "      <td>2014</td>\n",
       "      <td>10</td>\n",
       "      <td>7</td>\n",
       "      <td>1</td>\n",
       "      <td>32</td>\n",
       "      <td>8</td>\n",
       "      <td>4</td>\n",
       "      <td>0</td>\n",
       "    </tr>\n",
       "  </tbody>\n",
       "</table>\n",
       "<p>10677 rows × 11 columns</p>\n",
       "</div>"
      ],
      "text/plain": [
       "       Unnamed: 0        STATE/UT           DISTRICT  Year  Rape  \\\n",
       "0               0  andhra pradesh           ADILABAD  2001    50   \n",
       "1               1  andhra pradesh          ANANTAPUR  2001    23   \n",
       "2               2  andhra pradesh           CHITTOOR  2001    27   \n",
       "3               3  andhra pradesh           CUDDAPAH  2001    20   \n",
       "4               4  andhra pradesh      EAST GODAVARI  2001    23   \n",
       "...           ...             ...                ...   ...   ...   \n",
       "10672         832     lakshadweep        Lakshadweep  2014     1   \n",
       "10673         833     lakshadweep  Total District(s)  2014     1   \n",
       "10674         834      puducherry           Karaikal  2014     3   \n",
       "10675         835      puducherry         Puducherry  2014     7   \n",
       "10676         836      puducherry  Total District(s)  2014    10   \n",
       "\n",
       "       Kidnapping_Abduction  Dowry_Deaths  Hurting_of_womens_modesty  \\\n",
       "0                        30            16                        149   \n",
       "1                        30             7                        118   \n",
       "2                        34            14                        112   \n",
       "3                        20            17                        126   \n",
       "4                        26            12                        109   \n",
       "...                     ...           ...                        ...   \n",
       "10672                     0             0                          1   \n",
       "10673                     0             0                          1   \n",
       "10674                     1             0                         12   \n",
       "10675                     6             1                         20   \n",
       "10676                     7             1                         32   \n",
       "\n",
       "       Insult_to_womens_modesty  Domestic_Cruelty  Importation_of_Girls  \n",
       "0                            34               175                     0  \n",
       "1                            24               154                     0  \n",
       "2                            83               186                     0  \n",
       "3                            38                57                     0  \n",
       "4                            58               247                     0  \n",
       "...                         ...               ...                   ...  \n",
       "10672                         2                 0                     0  \n",
       "10673                         2                 0                     0  \n",
       "10674                         1                 1                     0  \n",
       "10675                         7                 3                     0  \n",
       "10676                         8                 4                     0  \n",
       "\n",
       "[10677 rows x 11 columns]"
      ]
     },
     "execution_count": 36,
     "metadata": {},
     "output_type": "execute_result"
    }
   ],
   "source": [
    "dataset_df"
   ]
  },
  {
   "cell_type": "markdown",
   "metadata": {},
   "source": [
    "This is the exect number ,now we can start data Exploratry  process."
   ]
  },
  {
   "cell_type": "code",
   "execution_count": 37,
   "metadata": {},
   "outputs": [],
   "source": [
    "import jovian"
   ]
  },
  {
   "cell_type": "code",
   "execution_count": 38,
   "metadata": {},
   "outputs": [
    {
     "data": {
      "application/javascript": [
       "window.require && require([\"base/js/namespace\"],function(Jupyter){Jupyter.notebook.save_checkpoint()})"
      ],
      "text/plain": [
       "<IPython.core.display.Javascript object>"
      ]
     },
     "metadata": {},
     "output_type": "display_data"
    },
    {
     "name": "stdout",
     "output_type": "stream",
     "text": [
      "[jovian] Updating notebook \"renuverma55/zerotopandas-course-project-starter\" on https://jovian.ai\u001b[0m\n",
      "[jovian] Committed successfully! https://jovian.ai/renuverma55/zerotopandas-course-project-starter\u001b[0m\n"
     ]
    },
    {
     "data": {
      "text/plain": [
       "'https://jovian.ai/renuverma55/zerotopandas-course-project-starter'"
      ]
     },
     "execution_count": 38,
     "metadata": {},
     "output_type": "execute_result"
    }
   ],
   "source": [
    "jovian.commit()"
   ]
  },
  {
   "cell_type": "markdown",
   "metadata": {},
   "source": [
    "## Exploratory Analysis and Visualization\n",
    "Lets Calculate the total number of women against crime was done \n"
   ]
  },
  {
   "cell_type": "code",
   "execution_count": 39,
   "metadata": {},
   "outputs": [],
   "source": [
    "total_victim = dataset_df.Kidnapping_Abduction.sum()+ dataset_df.Dowry_Deaths.sum()+ dataset_df.Hurting_of_womens_modesty.sum()+dataset_df.Insult_to_womens_modesty.sum()+dataset_df.Domestic_Cruelty.sum()+dataset_df.Importation_of_Girls.sum()+dataset_df.Rape.sum()"
   ]
  },
  {
   "cell_type": "code",
   "execution_count": 40,
   "metadata": {},
   "outputs": [
    {
     "data": {
      "text/plain": [
       "5321610"
      ]
     },
     "execution_count": 40,
     "metadata": {},
     "output_type": "execute_result"
    }
   ],
   "source": [
    "total_victim"
   ]
  },
  {
   "cell_type": "markdown",
   "metadata": {},
   "source": [
    "This is very big number more than 50 lakh women are victim over the period of 2001 to 2014\n"
   ]
  },
  {
   "cell_type": "markdown",
   "metadata": {},
   "source": [
    "> Instructions (delete this cell)\n",
    "> \n",
    "> - Compute the mean, sum, range and other interesting statistics for numeric columns\n",
    "> - Explore distributions of numeric columns using histograms etc.\n",
    "> - Explore relationship between columns using scatter plots, bar charts etc.\n",
    "> - Make a note of interesting insights from the exploratory analysis"
   ]
  },
  {
   "cell_type": "markdown",
   "metadata": {},
   "source": [
    "Let's begin by importing`matplotlib.pyplot` and `seaborn`."
   ]
  },
  {
   "cell_type": "code",
   "execution_count": 41,
   "metadata": {},
   "outputs": [],
   "source": [
    "import seaborn as sns\n",
    "import matplotlib\n",
    "import matplotlib.pyplot as plt\n",
    "%matplotlib inline\n",
    "\n",
    "sns.set_style('darkgrid')\n",
    "matplotlib.rcParams['font.size'] = 14\n",
    "matplotlib.rcParams['figure.figsize'] = (9, 5)\n",
    "matplotlib.rcParams['figure.facecolor'] = '#00000000'"
   ]
  },
  {
   "cell_type": "code",
   "execution_count": 42,
   "metadata": {},
   "outputs": [
    {
     "data": {
      "text/plain": [
       "Text(0, 0.5, 'Cases of Insult to modesty of women  in India')"
      ]
     },
     "execution_count": 42,
     "metadata": {},
     "output_type": "execute_result"
    },
    {
     "data": {
      "image/png": "[encoded data removed]",
      "text/plain": [
       "<Figure size 1800x1440 with 8 Axes>"
      ]
     },
     "metadata": {
      "needs_background": "light"
     },
     "output_type": "display_data"
    }
   ],
   "source": [
    "fig, axes = plt.subplots(4, 2, figsize=(25, 20))\n",
    "\n",
    "axes[0,0].set_title(\"Chart of rape cases in India in 2001-2014\")\n",
    "axes[0,0].bar(dataset_df.Year, dataset_df.Rape, color = 'black');\n",
    "plt.xlabel('Year') \n",
    "plt.ylabel('Cases of Rape in India') \n",
    "\n",
    "\n",
    "axes[0,1].set_title(\"Chart of Kidnapping and Abduction cases in India in 2001-2014\")\n",
    "axes[0,1].bar(dataset_df.Year, dataset_df.Kidnapping_Abduction, color = 'violet');\n",
    "plt.xlabel('Year') \n",
    "plt.ylabel('Cases of Kidnapping and Abduction in India') \n",
    "\n",
    "axes[1,0].set_title(\"Chart of Dowry death cases in India in 2001-2014\")\n",
    "axes[1,0].bar(dataset_df.Year, dataset_df.Dowry_Deaths, color = 'navy');\n",
    "plt.xlabel('Year') \n",
    "plt.ylabel('Cases of Dowry deaths in India') \n",
    "\n",
    "axes[1,1].set_title(\"Chart of Assault to her modesty in 2001-2014\")\n",
    "axes[1,1].bar(dataset_df.Year, dataset_df.Hurting_of_womens_modesty, color = 'cyan');\n",
    "plt.xlabel('Year') \n",
    "plt.ylabel('Cases of Assaulting a women for her modesty in India') \n",
    "\n",
    "axes[2,0].set_title(\"Chart of Domestic Violence cases in India in 2001-2014\")\n",
    "axes[2,0].bar(dataset_df.Year, dataset_df.Domestic_Cruelty, color = 'orange');\n",
    "plt.xlabel('Year') \n",
    "plt.ylabel('Cases of Domestic Violence in India') \n",
    "\n",
    "axes[2,1].set_title(\"Chart of Importation of girls in India in 2001-2014\")\n",
    "axes[2,1].bar(dataset_df.Year, dataset_df.Importation_of_Girls, color = 'red');\n",
    "plt.xlabel('Year') \n",
    "plt.ylabel('Cases ofImportation of girls in India') \n",
    "\n",
    "axes[3,0].set_title(\"Chart of Insult_to_modesty_of_Women in India in 2001-2014\")\n",
    "axes[3,0].bar(dataset_df.Year, dataset_df.Importation_of_Girls, color = 'green');\n",
    "plt.xlabel('Year') \n",
    "plt.ylabel('Cases of Insult to modesty of women  in India') "
   ]
  },
  {
   "cell_type": "markdown",
   "metadata": {},
   "source": [
    "It is very clear from the graph the cases have increased over the year. "
   ]
  },
  {
   "cell_type": "markdown",
   "metadata": {},
   "source": [
    "for ease of calculation we are dropping 3 coloumn"
   ]
  },
  {
   "cell_type": "code",
   "execution_count": 44,
   "metadata": {},
   "outputs": [
    {
     "data": {
      "text/html": [
       "<div>\n",
       "<style scoped>\n",
       "    .dataframe tbody tr th:only-of-type {\n",
       "        vertical-align: middle;\n",
       "    }\n",
       "\n",
       "    .dataframe tbody tr th {\n",
       "        vertical-align: top;\n",
       "    }\n",
       "\n",
       "    .dataframe thead th {\n",
       "        text-align: right;\n",
       "    }\n",
       "</style>\n",
       "<table border=\"1\" class=\"dataframe\">\n",
       "  <thead>\n",
       "    <tr style=\"text-align: right;\">\n",
       "      <th></th>\n",
       "      <th>STATE/UT</th>\n",
       "      <th>DISTRICT</th>\n",
       "      <th>Year</th>\n",
       "      <th>Rape</th>\n",
       "      <th>Kidnapping_Abduction</th>\n",
       "      <th>Dowry_Deaths</th>\n",
       "      <th>Domestic_Cruelty</th>\n",
       "    </tr>\n",
       "  </thead>\n",
       "  <tbody>\n",
       "    <tr>\n",
       "      <th>0</th>\n",
       "      <td>andhra pradesh</td>\n",
       "      <td>ADILABAD</td>\n",
       "      <td>2001</td>\n",
       "      <td>50</td>\n",
       "      <td>30</td>\n",
       "      <td>16</td>\n",
       "      <td>175</td>\n",
       "    </tr>\n",
       "    <tr>\n",
       "      <th>1</th>\n",
       "      <td>andhra pradesh</td>\n",
       "      <td>ANANTAPUR</td>\n",
       "      <td>2001</td>\n",
       "      <td>23</td>\n",
       "      <td>30</td>\n",
       "      <td>7</td>\n",
       "      <td>154</td>\n",
       "    </tr>\n",
       "    <tr>\n",
       "      <th>2</th>\n",
       "      <td>andhra pradesh</td>\n",
       "      <td>CHITTOOR</td>\n",
       "      <td>2001</td>\n",
       "      <td>27</td>\n",
       "      <td>34</td>\n",
       "      <td>14</td>\n",
       "      <td>186</td>\n",
       "    </tr>\n",
       "    <tr>\n",
       "      <th>3</th>\n",
       "      <td>andhra pradesh</td>\n",
       "      <td>CUDDAPAH</td>\n",
       "      <td>2001</td>\n",
       "      <td>20</td>\n",
       "      <td>20</td>\n",
       "      <td>17</td>\n",
       "      <td>57</td>\n",
       "    </tr>\n",
       "    <tr>\n",
       "      <th>4</th>\n",
       "      <td>andhra pradesh</td>\n",
       "      <td>EAST GODAVARI</td>\n",
       "      <td>2001</td>\n",
       "      <td>23</td>\n",
       "      <td>26</td>\n",
       "      <td>12</td>\n",
       "      <td>247</td>\n",
       "    </tr>\n",
       "    <tr>\n",
       "      <th>...</th>\n",
       "      <td>...</td>\n",
       "      <td>...</td>\n",
       "      <td>...</td>\n",
       "      <td>...</td>\n",
       "      <td>...</td>\n",
       "      <td>...</td>\n",
       "      <td>...</td>\n",
       "    </tr>\n",
       "    <tr>\n",
       "      <th>10672</th>\n",
       "      <td>lakshadweep</td>\n",
       "      <td>Lakshadweep</td>\n",
       "      <td>2014</td>\n",
       "      <td>1</td>\n",
       "      <td>0</td>\n",
       "      <td>0</td>\n",
       "      <td>0</td>\n",
       "    </tr>\n",
       "    <tr>\n",
       "      <th>10673</th>\n",
       "      <td>lakshadweep</td>\n",
       "      <td>Total District(s)</td>\n",
       "      <td>2014</td>\n",
       "      <td>1</td>\n",
       "      <td>0</td>\n",
       "      <td>0</td>\n",
       "      <td>0</td>\n",
       "    </tr>\n",
       "    <tr>\n",
       "      <th>10674</th>\n",
       "      <td>puducherry</td>\n",
       "      <td>Karaikal</td>\n",
       "      <td>2014</td>\n",
       "      <td>3</td>\n",
       "      <td>1</td>\n",
       "      <td>0</td>\n",
       "      <td>1</td>\n",
       "    </tr>\n",
       "    <tr>\n",
       "      <th>10675</th>\n",
       "      <td>puducherry</td>\n",
       "      <td>Puducherry</td>\n",
       "      <td>2014</td>\n",
       "      <td>7</td>\n",
       "      <td>6</td>\n",
       "      <td>1</td>\n",
       "      <td>3</td>\n",
       "    </tr>\n",
       "    <tr>\n",
       "      <th>10676</th>\n",
       "      <td>puducherry</td>\n",
       "      <td>Total District(s)</td>\n",
       "      <td>2014</td>\n",
       "      <td>10</td>\n",
       "      <td>7</td>\n",
       "      <td>1</td>\n",
       "      <td>4</td>\n",
       "    </tr>\n",
       "  </tbody>\n",
       "</table>\n",
       "<p>10677 rows × 7 columns</p>\n",
       "</div>"
      ],
      "text/plain": [
       "             STATE/UT           DISTRICT  Year  Rape  Kidnapping_Abduction  \\\n",
       "0      andhra pradesh           ADILABAD  2001    50                    30   \n",
       "1      andhra pradesh          ANANTAPUR  2001    23                    30   \n",
       "2      andhra pradesh           CHITTOOR  2001    27                    34   \n",
       "3      andhra pradesh           CUDDAPAH  2001    20                    20   \n",
       "4      andhra pradesh      EAST GODAVARI  2001    23                    26   \n",
       "...               ...                ...   ...   ...                   ...   \n",
       "10672     lakshadweep        Lakshadweep  2014     1                     0   \n",
       "10673     lakshadweep  Total District(s)  2014     1                     0   \n",
       "10674      puducherry           Karaikal  2014     3                     1   \n",
       "10675      puducherry         Puducherry  2014     7                     6   \n",
       "10676      puducherry  Total District(s)  2014    10                     7   \n",
       "\n",
       "       Dowry_Deaths  Domestic_Cruelty  \n",
       "0                16               175  \n",
       "1                 7               154  \n",
       "2                14               186  \n",
       "3                17                57  \n",
       "4                12               247  \n",
       "...             ...               ...  \n",
       "10672             0                 0  \n",
       "10673             0                 0  \n",
       "10674             0                 1  \n",
       "10675             1                 3  \n",
       "10676             1                 4  \n",
       "\n",
       "[10677 rows x 7 columns]"
      ]
     },
     "execution_count": 44,
     "metadata": {},
     "output_type": "execute_result"
    }
   ],
   "source": [
    "dataset_df.drop(['Insult_to_womens_modesty','Hurting_of_womens_modesty','Importation_of_Girls','Unnamed: 0'],axis=1)"
   ]
  },
  {
   "cell_type": "markdown",
   "metadata": {},
   "source": [
    "Let us save and upload our work to Jovian before continuing"
   ]
  },
  {
   "cell_type": "code",
   "execution_count": 45,
   "metadata": {},
   "outputs": [],
   "source": [
    "import jovian"
   ]
  },
  {
   "cell_type": "code",
   "execution_count": 46,
   "metadata": {},
   "outputs": [
    {
     "data": {
      "application/javascript": [
       "window.require && require([\"base/js/namespace\"],function(Jupyter){Jupyter.notebook.save_checkpoint()})"
      ],
      "text/plain": [
       "<IPython.core.display.Javascript object>"
      ]
     },
     "metadata": {},
     "output_type": "display_data"
    },
    {
     "name": "stdout",
     "output_type": "stream",
     "text": [
      "[jovian] Updating notebook \"renuverma55/zerotopandas-course-project-starter\" on https://jovian.ai\u001b[0m\n",
      "[jovian] Committed successfully! https://jovian.ai/renuverma55/zerotopandas-course-project-starter\u001b[0m\n"
     ]
    },
    {
     "data": {
      "text/plain": [
       "'https://jovian.ai/renuverma55/zerotopandas-course-project-starter'"
      ]
     },
     "execution_count": 46,
     "metadata": {},
     "output_type": "execute_result"
    }
   ],
   "source": [
    "jovian.commit()"
   ]
  },
  {
   "cell_type": "markdown",
   "metadata": {},
   "source": [
    "## Asking and Answering Questions\n",
    "\n",
    "TODO - write some explanation here.\n",
    "\n"
   ]
  },
  {
   "cell_type": "markdown",
   "metadata": {},
   "source": [
    "> Instructions (delete this cell)\n",
    ">\n",
    "> - Ask at least 5 interesting questions about your dataset\n",
    "> - Answer the questions either by computing the results using Numpy/Pandas or by plotting graphs using Matplotlib/Seaborn\n",
    "> - Create new columns, merge multiple dataset and perform grouping/aggregation wherever necessary\n",
    "> - Wherever you're using a library function from Pandas/Numpy/Matplotlib etc. explain briefly what it does\n",
    "\n"
   ]
  },
  {
   "cell_type": "markdown",
   "metadata": {},
   "source": [
    "#### Q1:Create a dataset of crime details state wise\n"
   ]
  },
  {
   "cell_type": "code",
   "execution_count": 47,
   "metadata": {},
   "outputs": [],
   "source": [
    "statewise_df = dataset_df.groupby('STATE/UT')[['Rape','Kidnapping_Abduction','Dowry_Deaths','Domestic_Cruelty']].sum()"
   ]
  },
  {
   "cell_type": "code",
   "execution_count": 48,
   "metadata": {},
   "outputs": [
    {
     "data": {
      "text/html": [
       "<div>\n",
       "<style scoped>\n",
       "    .dataframe tbody tr th:only-of-type {\n",
       "        vertical-align: middle;\n",
       "    }\n",
       "\n",
       "    .dataframe tbody tr th {\n",
       "        vertical-align: top;\n",
       "    }\n",
       "\n",
       "    .dataframe thead th {\n",
       "        text-align: right;\n",
       "    }\n",
       "</style>\n",
       "<table border=\"1\" class=\"dataframe\">\n",
       "  <thead>\n",
       "    <tr style=\"text-align: right;\">\n",
       "      <th></th>\n",
       "      <th>Rape</th>\n",
       "      <th>Kidnapping_Abduction</th>\n",
       "      <th>Dowry_Deaths</th>\n",
       "      <th>Domestic_Cruelty</th>\n",
       "    </tr>\n",
       "    <tr>\n",
       "      <th>STATE/UT</th>\n",
       "      <th></th>\n",
       "      <th></th>\n",
       "      <th></th>\n",
       "      <th></th>\n",
       "    </tr>\n",
       "  </thead>\n",
       "  <tbody>\n",
       "    <tr>\n",
       "      <th>a &amp; n islands</th>\n",
       "      <td>336</td>\n",
       "      <td>212</td>\n",
       "      <td>20</td>\n",
       "      <td>288</td>\n",
       "    </tr>\n",
       "    <tr>\n",
       "      <th>andhra pradesh</th>\n",
       "      <td>32150</td>\n",
       "      <td>34504</td>\n",
       "      <td>13844</td>\n",
       "      <td>280906</td>\n",
       "    </tr>\n",
       "    <tr>\n",
       "      <th>arunachal pradesh</th>\n",
       "      <td>1316</td>\n",
       "      <td>1470</td>\n",
       "      <td>6</td>\n",
       "      <td>476</td>\n",
       "    </tr>\n",
       "    <tr>\n",
       "      <th>assam</th>\n",
       "      <td>40190</td>\n",
       "      <td>62074</td>\n",
       "      <td>3268</td>\n",
       "      <td>115300</td>\n",
       "    </tr>\n",
       "    <tr>\n",
       "      <th>bihar</th>\n",
       "      <td>30758</td>\n",
       "      <td>57086</td>\n",
       "      <td>32206</td>\n",
       "      <td>69770</td>\n",
       "    </tr>\n",
       "    <tr>\n",
       "      <th>chandigarh</th>\n",
       "      <td>770</td>\n",
       "      <td>1682</td>\n",
       "      <td>90</td>\n",
       "      <td>2080</td>\n",
       "    </tr>\n",
       "    <tr>\n",
       "      <th>chhattisgarh</th>\n",
       "      <td>29308</td>\n",
       "      <td>11808</td>\n",
       "      <td>2758</td>\n",
       "      <td>23436</td>\n",
       "    </tr>\n",
       "    <tr>\n",
       "      <th>d &amp; n haveli</th>\n",
       "      <td>132</td>\n",
       "      <td>224</td>\n",
       "      <td>2</td>\n",
       "      <td>90</td>\n",
       "    </tr>\n",
       "    <tr>\n",
       "      <th>daman &amp; diu</th>\n",
       "      <td>60</td>\n",
       "      <td>44</td>\n",
       "      <td>6</td>\n",
       "      <td>76</td>\n",
       "    </tr>\n",
       "    <tr>\n",
       "      <th>delhi</th>\n",
       "      <td>20312</td>\n",
       "      <td>46586</td>\n",
       "      <td>3758</td>\n",
       "      <td>42834</td>\n",
       "    </tr>\n",
       "    <tr>\n",
       "      <th>goa</th>\n",
       "      <td>1062</td>\n",
       "      <td>640</td>\n",
       "      <td>38</td>\n",
       "      <td>532</td>\n",
       "    </tr>\n",
       "    <tr>\n",
       "      <th>gujarat</th>\n",
       "      <td>11644</td>\n",
       "      <td>34670</td>\n",
       "      <td>1108</td>\n",
       "      <td>146468</td>\n",
       "    </tr>\n",
       "    <tr>\n",
       "      <th>haryana</th>\n",
       "      <td>17110</td>\n",
       "      <td>20016</td>\n",
       "      <td>7372</td>\n",
       "      <td>68414</td>\n",
       "    </tr>\n",
       "    <tr>\n",
       "      <th>himachal pradesh</th>\n",
       "      <td>4674</td>\n",
       "      <td>4116</td>\n",
       "      <td>112</td>\n",
       "      <td>7796</td>\n",
       "    </tr>\n",
       "    <tr>\n",
       "      <th>jammu &amp; kashmir</th>\n",
       "      <td>7038</td>\n",
       "      <td>21164</td>\n",
       "      <td>294</td>\n",
       "      <td>5390</td>\n",
       "    </tr>\n",
       "    <tr>\n",
       "      <th>jharkhand</th>\n",
       "      <td>22826</td>\n",
       "      <td>14186</td>\n",
       "      <td>7896</td>\n",
       "      <td>23910</td>\n",
       "    </tr>\n",
       "    <tr>\n",
       "      <th>karnataka</th>\n",
       "      <td>15056</td>\n",
       "      <td>16262</td>\n",
       "      <td>7016</td>\n",
       "      <td>72706</td>\n",
       "    </tr>\n",
       "    <tr>\n",
       "      <th>kerala</th>\n",
       "      <td>20030</td>\n",
       "      <td>4452</td>\n",
       "      <td>700</td>\n",
       "      <td>111626</td>\n",
       "    </tr>\n",
       "    <tr>\n",
       "      <th>lakshadweep</th>\n",
       "      <td>20</td>\n",
       "      <td>2</td>\n",
       "      <td>0</td>\n",
       "      <td>14</td>\n",
       "    </tr>\n",
       "    <tr>\n",
       "      <th>madhya pradesh</th>\n",
       "      <td>90996</td>\n",
       "      <td>35608</td>\n",
       "      <td>21090</td>\n",
       "      <td>102816</td>\n",
       "    </tr>\n",
       "    <tr>\n",
       "      <th>maharashtra</th>\n",
       "      <td>48974</td>\n",
       "      <td>30368</td>\n",
       "      <td>9696</td>\n",
       "      <td>193202</td>\n",
       "    </tr>\n",
       "    <tr>\n",
       "      <th>manipur</th>\n",
       "      <td>1068</td>\n",
       "      <td>2606</td>\n",
       "      <td>6</td>\n",
       "      <td>578</td>\n",
       "    </tr>\n",
       "    <tr>\n",
       "      <th>meghalaya</th>\n",
       "      <td>2642</td>\n",
       "      <td>670</td>\n",
       "      <td>36</td>\n",
       "      <td>460</td>\n",
       "    </tr>\n",
       "    <tr>\n",
       "      <th>mizoram</th>\n",
       "      <td>2070</td>\n",
       "      <td>30</td>\n",
       "      <td>8</td>\n",
       "      <td>134</td>\n",
       "    </tr>\n",
       "    <tr>\n",
       "      <th>nagaland</th>\n",
       "      <td>562</td>\n",
       "      <td>190</td>\n",
       "      <td>2</td>\n",
       "      <td>32</td>\n",
       "    </tr>\n",
       "    <tr>\n",
       "      <th>odisha</th>\n",
       "      <td>30480</td>\n",
       "      <td>25588</td>\n",
       "      <td>10782</td>\n",
       "      <td>49206</td>\n",
       "    </tr>\n",
       "    <tr>\n",
       "      <th>puducherry</th>\n",
       "      <td>208</td>\n",
       "      <td>306</td>\n",
       "      <td>56</td>\n",
       "      <td>234</td>\n",
       "    </tr>\n",
       "    <tr>\n",
       "      <th>punjab</th>\n",
       "      <td>14656</td>\n",
       "      <td>15096</td>\n",
       "      <td>3524</td>\n",
       "      <td>30840</td>\n",
       "    </tr>\n",
       "    <tr>\n",
       "      <th>rajasthan</th>\n",
       "      <td>45684</td>\n",
       "      <td>66278</td>\n",
       "      <td>11854</td>\n",
       "      <td>262200</td>\n",
       "    </tr>\n",
       "    <tr>\n",
       "      <th>sikkim</th>\n",
       "      <td>570</td>\n",
       "      <td>180</td>\n",
       "      <td>4</td>\n",
       "      <td>108</td>\n",
       "    </tr>\n",
       "    <tr>\n",
       "      <th>tamil nadu</th>\n",
       "      <td>16660</td>\n",
       "      <td>30908</td>\n",
       "      <td>5060</td>\n",
       "      <td>45524</td>\n",
       "    </tr>\n",
       "    <tr>\n",
       "      <th>telangana</th>\n",
       "      <td>1958</td>\n",
       "      <td>1422</td>\n",
       "      <td>578</td>\n",
       "      <td>12738</td>\n",
       "    </tr>\n",
       "    <tr>\n",
       "      <th>tripura</th>\n",
       "      <td>5060</td>\n",
       "      <td>2202</td>\n",
       "      <td>752</td>\n",
       "      <td>16086</td>\n",
       "    </tr>\n",
       "    <tr>\n",
       "      <th>uttar pradesh</th>\n",
       "      <td>51150</td>\n",
       "      <td>135906</td>\n",
       "      <td>57256</td>\n",
       "      <td>193738</td>\n",
       "    </tr>\n",
       "    <tr>\n",
       "      <th>uttarakhand</th>\n",
       "      <td>3752</td>\n",
       "      <td>6484</td>\n",
       "      <td>1974</td>\n",
       "      <td>9756</td>\n",
       "    </tr>\n",
       "    <tr>\n",
       "      <th>west bengal</th>\n",
       "      <td>47876</td>\n",
       "      <td>61158</td>\n",
       "      <td>12308</td>\n",
       "      <td>344124</td>\n",
       "    </tr>\n",
       "  </tbody>\n",
       "</table>\n",
       "</div>"
      ],
      "text/plain": [
       "                    Rape  Kidnapping_Abduction  Dowry_Deaths  Domestic_Cruelty\n",
       "STATE/UT                                                                      \n",
       "a & n islands        336                   212            20               288\n",
       "andhra pradesh     32150                 34504         13844            280906\n",
       "arunachal pradesh   1316                  1470             6               476\n",
       "assam              40190                 62074          3268            115300\n",
       "bihar              30758                 57086         32206             69770\n",
       "chandigarh           770                  1682            90              2080\n",
       "chhattisgarh       29308                 11808          2758             23436\n",
       "d & n haveli         132                   224             2                90\n",
       "daman & diu           60                    44             6                76\n",
       "delhi              20312                 46586          3758             42834\n",
       "goa                 1062                   640            38               532\n",
       "gujarat            11644                 34670          1108            146468\n",
       "haryana            17110                 20016          7372             68414\n",
       "himachal pradesh    4674                  4116           112              7796\n",
       "jammu & kashmir     7038                 21164           294              5390\n",
       "jharkhand          22826                 14186          7896             23910\n",
       "karnataka          15056                 16262          7016             72706\n",
       "kerala             20030                  4452           700            111626\n",
       "lakshadweep           20                     2             0                14\n",
       "madhya pradesh     90996                 35608         21090            102816\n",
       "maharashtra        48974                 30368          9696            193202\n",
       "manipur             1068                  2606             6               578\n",
       "meghalaya           2642                   670            36               460\n",
       "mizoram             2070                    30             8               134\n",
       "nagaland             562                   190             2                32\n",
       "odisha             30480                 25588         10782             49206\n",
       "puducherry           208                   306            56               234\n",
       "punjab             14656                 15096          3524             30840\n",
       "rajasthan          45684                 66278         11854            262200\n",
       "sikkim               570                   180             4               108\n",
       "tamil nadu         16660                 30908          5060             45524\n",
       "telangana           1958                  1422           578             12738\n",
       "tripura             5060                  2202           752             16086\n",
       "uttar pradesh      51150                135906         57256            193738\n",
       "uttarakhand         3752                  6484          1974              9756\n",
       "west bengal        47876                 61158         12308            344124"
      ]
     },
     "execution_count": 48,
     "metadata": {},
     "output_type": "execute_result"
    }
   ],
   "source": [
    "statewise_df"
   ]
  },
  {
   "cell_type": "markdown",
   "metadata": {},
   "source": [
    "#### Q2: Which state has maximum number of rape cases in the span of 2001-2014"
   ]
  },
  {
   "cell_type": "code",
   "execution_count": 49,
   "metadata": {},
   "outputs": [],
   "source": [
    "maxi_rape = statewise_df.sort_values(by ='Rape',ascending = False).head(10)"
   ]
  },
  {
   "cell_type": "code",
   "execution_count": 50,
   "metadata": {},
   "outputs": [
    {
     "data": {
      "text/html": [
       "<div>\n",
       "<style scoped>\n",
       "    .dataframe tbody tr th:only-of-type {\n",
       "        vertical-align: middle;\n",
       "    }\n",
       "\n",
       "    .dataframe tbody tr th {\n",
       "        vertical-align: top;\n",
       "    }\n",
       "\n",
       "    .dataframe thead th {\n",
       "        text-align: right;\n",
       "    }\n",
       "</style>\n",
       "<table border=\"1\" class=\"dataframe\">\n",
       "  <thead>\n",
       "    <tr style=\"text-align: right;\">\n",
       "      <th></th>\n",
       "      <th>Rape</th>\n",
       "      <th>Kidnapping_Abduction</th>\n",
       "      <th>Dowry_Deaths</th>\n",
       "      <th>Domestic_Cruelty</th>\n",
       "    </tr>\n",
       "    <tr>\n",
       "      <th>STATE/UT</th>\n",
       "      <th></th>\n",
       "      <th></th>\n",
       "      <th></th>\n",
       "      <th></th>\n",
       "    </tr>\n",
       "  </thead>\n",
       "  <tbody>\n",
       "    <tr>\n",
       "      <th>madhya pradesh</th>\n",
       "      <td>90996</td>\n",
       "      <td>35608</td>\n",
       "      <td>21090</td>\n",
       "      <td>102816</td>\n",
       "    </tr>\n",
       "    <tr>\n",
       "      <th>uttar pradesh</th>\n",
       "      <td>51150</td>\n",
       "      <td>135906</td>\n",
       "      <td>57256</td>\n",
       "      <td>193738</td>\n",
       "    </tr>\n",
       "    <tr>\n",
       "      <th>maharashtra</th>\n",
       "      <td>48974</td>\n",
       "      <td>30368</td>\n",
       "      <td>9696</td>\n",
       "      <td>193202</td>\n",
       "    </tr>\n",
       "    <tr>\n",
       "      <th>west bengal</th>\n",
       "      <td>47876</td>\n",
       "      <td>61158</td>\n",
       "      <td>12308</td>\n",
       "      <td>344124</td>\n",
       "    </tr>\n",
       "    <tr>\n",
       "      <th>rajasthan</th>\n",
       "      <td>45684</td>\n",
       "      <td>66278</td>\n",
       "      <td>11854</td>\n",
       "      <td>262200</td>\n",
       "    </tr>\n",
       "    <tr>\n",
       "      <th>assam</th>\n",
       "      <td>40190</td>\n",
       "      <td>62074</td>\n",
       "      <td>3268</td>\n",
       "      <td>115300</td>\n",
       "    </tr>\n",
       "    <tr>\n",
       "      <th>andhra pradesh</th>\n",
       "      <td>32150</td>\n",
       "      <td>34504</td>\n",
       "      <td>13844</td>\n",
       "      <td>280906</td>\n",
       "    </tr>\n",
       "    <tr>\n",
       "      <th>bihar</th>\n",
       "      <td>30758</td>\n",
       "      <td>57086</td>\n",
       "      <td>32206</td>\n",
       "      <td>69770</td>\n",
       "    </tr>\n",
       "    <tr>\n",
       "      <th>odisha</th>\n",
       "      <td>30480</td>\n",
       "      <td>25588</td>\n",
       "      <td>10782</td>\n",
       "      <td>49206</td>\n",
       "    </tr>\n",
       "    <tr>\n",
       "      <th>chhattisgarh</th>\n",
       "      <td>29308</td>\n",
       "      <td>11808</td>\n",
       "      <td>2758</td>\n",
       "      <td>23436</td>\n",
       "    </tr>\n",
       "  </tbody>\n",
       "</table>\n",
       "</div>"
      ],
      "text/plain": [
       "                 Rape  Kidnapping_Abduction  Dowry_Deaths  Domestic_Cruelty\n",
       "STATE/UT                                                                   \n",
       "madhya pradesh  90996                 35608         21090            102816\n",
       "uttar pradesh   51150                135906         57256            193738\n",
       "maharashtra     48974                 30368          9696            193202\n",
       "west bengal     47876                 61158         12308            344124\n",
       "rajasthan       45684                 66278         11854            262200\n",
       "assam           40190                 62074          3268            115300\n",
       "andhra pradesh  32150                 34504         13844            280906\n",
       "bihar           30758                 57086         32206             69770\n",
       "odisha          30480                 25588         10782             49206\n",
       "chhattisgarh    29308                 11808          2758             23436"
      ]
     },
     "execution_count": 50,
     "metadata": {},
     "output_type": "execute_result"
    }
   ],
   "source": [
    "maxi_rape"
   ]
  },
  {
   "cell_type": "markdown",
   "metadata": {},
   "source": [
    "Madhya Pradesh has topped in number of Rape Cases in the span of 2001 -2004"
   ]
  },
  {
   "cell_type": "markdown",
   "metadata": {},
   "source": [
    "#### Q3: Which state has maximum number of Kidnapping cases in the span of 2001-2014"
   ]
  },
  {
   "cell_type": "code",
   "execution_count": 58,
   "metadata": {},
   "outputs": [
    {
     "data": {
      "text/html": [
       "<div>\n",
       "<style scoped>\n",
       "    .dataframe tbody tr th:only-of-type {\n",
       "        vertical-align: middle;\n",
       "    }\n",
       "\n",
       "    .dataframe tbody tr th {\n",
       "        vertical-align: top;\n",
       "    }\n",
       "\n",
       "    .dataframe thead th {\n",
       "        text-align: right;\n",
       "    }\n",
       "</style>\n",
       "<table border=\"1\" class=\"dataframe\">\n",
       "  <thead>\n",
       "    <tr style=\"text-align: right;\">\n",
       "      <th></th>\n",
       "      <th>Rape</th>\n",
       "      <th>Kidnapping_Abduction</th>\n",
       "      <th>Dowry_Deaths</th>\n",
       "      <th>Domestic_Cruelty</th>\n",
       "    </tr>\n",
       "    <tr>\n",
       "      <th>STATE/UT</th>\n",
       "      <th></th>\n",
       "      <th></th>\n",
       "      <th></th>\n",
       "      <th></th>\n",
       "    </tr>\n",
       "  </thead>\n",
       "  <tbody>\n",
       "    <tr>\n",
       "      <th>uttar pradesh</th>\n",
       "      <td>51150</td>\n",
       "      <td>135906</td>\n",
       "      <td>57256</td>\n",
       "      <td>193738</td>\n",
       "    </tr>\n",
       "    <tr>\n",
       "      <th>rajasthan</th>\n",
       "      <td>45684</td>\n",
       "      <td>66278</td>\n",
       "      <td>11854</td>\n",
       "      <td>262200</td>\n",
       "    </tr>\n",
       "    <tr>\n",
       "      <th>assam</th>\n",
       "      <td>40190</td>\n",
       "      <td>62074</td>\n",
       "      <td>3268</td>\n",
       "      <td>115300</td>\n",
       "    </tr>\n",
       "    <tr>\n",
       "      <th>west bengal</th>\n",
       "      <td>47876</td>\n",
       "      <td>61158</td>\n",
       "      <td>12308</td>\n",
       "      <td>344124</td>\n",
       "    </tr>\n",
       "    <tr>\n",
       "      <th>bihar</th>\n",
       "      <td>30758</td>\n",
       "      <td>57086</td>\n",
       "      <td>32206</td>\n",
       "      <td>69770</td>\n",
       "    </tr>\n",
       "    <tr>\n",
       "      <th>delhi</th>\n",
       "      <td>20312</td>\n",
       "      <td>46586</td>\n",
       "      <td>3758</td>\n",
       "      <td>42834</td>\n",
       "    </tr>\n",
       "    <tr>\n",
       "      <th>madhya pradesh</th>\n",
       "      <td>90996</td>\n",
       "      <td>35608</td>\n",
       "      <td>21090</td>\n",
       "      <td>102816</td>\n",
       "    </tr>\n",
       "    <tr>\n",
       "      <th>gujarat</th>\n",
       "      <td>11644</td>\n",
       "      <td>34670</td>\n",
       "      <td>1108</td>\n",
       "      <td>146468</td>\n",
       "    </tr>\n",
       "    <tr>\n",
       "      <th>andhra pradesh</th>\n",
       "      <td>32150</td>\n",
       "      <td>34504</td>\n",
       "      <td>13844</td>\n",
       "      <td>280906</td>\n",
       "    </tr>\n",
       "    <tr>\n",
       "      <th>tamil nadu</th>\n",
       "      <td>16660</td>\n",
       "      <td>30908</td>\n",
       "      <td>5060</td>\n",
       "      <td>45524</td>\n",
       "    </tr>\n",
       "  </tbody>\n",
       "</table>\n",
       "</div>"
      ],
      "text/plain": [
       "                 Rape  Kidnapping_Abduction  Dowry_Deaths  Domestic_Cruelty\n",
       "STATE/UT                                                                   \n",
       "uttar pradesh   51150                135906         57256            193738\n",
       "rajasthan       45684                 66278         11854            262200\n",
       "assam           40190                 62074          3268            115300\n",
       "west bengal     47876                 61158         12308            344124\n",
       "bihar           30758                 57086         32206             69770\n",
       "delhi           20312                 46586          3758             42834\n",
       "madhya pradesh  90996                 35608         21090            102816\n",
       "gujarat         11644                 34670          1108            146468\n",
       "andhra pradesh  32150                 34504         13844            280906\n",
       "tamil nadu      16660                 30908          5060             45524"
      ]
     },
     "execution_count": 58,
     "metadata": {},
     "output_type": "execute_result"
    }
   ],
   "source": [
    "\n",
    "\n",
    "statewise_df.sort_values(by ='Kidnapping_Abduction',ascending = False).head(10)"
   ]
  },
  {
   "cell_type": "markdown",
   "metadata": {},
   "source": [
    "In number of Kidnapping cases Uttar Pradesh has topped."
   ]
  },
  {
   "cell_type": "markdown",
   "metadata": {},
   "source": [
    "#### Q4: List the top 10 state which has maximum number of Dowry deaths"
   ]
  },
  {
   "cell_type": "code",
   "execution_count": 59,
   "metadata": {},
   "outputs": [
    {
     "data": {
      "text/html": [
       "<div>\n",
       "<style scoped>\n",
       "    .dataframe tbody tr th:only-of-type {\n",
       "        vertical-align: middle;\n",
       "    }\n",
       "\n",
       "    .dataframe tbody tr th {\n",
       "        vertical-align: top;\n",
       "    }\n",
       "\n",
       "    .dataframe thead th {\n",
       "        text-align: right;\n",
       "    }\n",
       "</style>\n",
       "<table border=\"1\" class=\"dataframe\">\n",
       "  <thead>\n",
       "    <tr style=\"text-align: right;\">\n",
       "      <th></th>\n",
       "      <th>Rape</th>\n",
       "      <th>Kidnapping_Abduction</th>\n",
       "      <th>Dowry_Deaths</th>\n",
       "      <th>Domestic_Cruelty</th>\n",
       "    </tr>\n",
       "    <tr>\n",
       "      <th>STATE/UT</th>\n",
       "      <th></th>\n",
       "      <th></th>\n",
       "      <th></th>\n",
       "      <th></th>\n",
       "    </tr>\n",
       "  </thead>\n",
       "  <tbody>\n",
       "    <tr>\n",
       "      <th>uttar pradesh</th>\n",
       "      <td>51150</td>\n",
       "      <td>135906</td>\n",
       "      <td>57256</td>\n",
       "      <td>193738</td>\n",
       "    </tr>\n",
       "    <tr>\n",
       "      <th>bihar</th>\n",
       "      <td>30758</td>\n",
       "      <td>57086</td>\n",
       "      <td>32206</td>\n",
       "      <td>69770</td>\n",
       "    </tr>\n",
       "    <tr>\n",
       "      <th>madhya pradesh</th>\n",
       "      <td>90996</td>\n",
       "      <td>35608</td>\n",
       "      <td>21090</td>\n",
       "      <td>102816</td>\n",
       "    </tr>\n",
       "    <tr>\n",
       "      <th>andhra pradesh</th>\n",
       "      <td>32150</td>\n",
       "      <td>34504</td>\n",
       "      <td>13844</td>\n",
       "      <td>280906</td>\n",
       "    </tr>\n",
       "    <tr>\n",
       "      <th>west bengal</th>\n",
       "      <td>47876</td>\n",
       "      <td>61158</td>\n",
       "      <td>12308</td>\n",
       "      <td>344124</td>\n",
       "    </tr>\n",
       "    <tr>\n",
       "      <th>rajasthan</th>\n",
       "      <td>45684</td>\n",
       "      <td>66278</td>\n",
       "      <td>11854</td>\n",
       "      <td>262200</td>\n",
       "    </tr>\n",
       "    <tr>\n",
       "      <th>odisha</th>\n",
       "      <td>30480</td>\n",
       "      <td>25588</td>\n",
       "      <td>10782</td>\n",
       "      <td>49206</td>\n",
       "    </tr>\n",
       "    <tr>\n",
       "      <th>maharashtra</th>\n",
       "      <td>48974</td>\n",
       "      <td>30368</td>\n",
       "      <td>9696</td>\n",
       "      <td>193202</td>\n",
       "    </tr>\n",
       "    <tr>\n",
       "      <th>jharkhand</th>\n",
       "      <td>22826</td>\n",
       "      <td>14186</td>\n",
       "      <td>7896</td>\n",
       "      <td>23910</td>\n",
       "    </tr>\n",
       "    <tr>\n",
       "      <th>haryana</th>\n",
       "      <td>17110</td>\n",
       "      <td>20016</td>\n",
       "      <td>7372</td>\n",
       "      <td>68414</td>\n",
       "    </tr>\n",
       "  </tbody>\n",
       "</table>\n",
       "</div>"
      ],
      "text/plain": [
       "                 Rape  Kidnapping_Abduction  Dowry_Deaths  Domestic_Cruelty\n",
       "STATE/UT                                                                   \n",
       "uttar pradesh   51150                135906         57256            193738\n",
       "bihar           30758                 57086         32206             69770\n",
       "madhya pradesh  90996                 35608         21090            102816\n",
       "andhra pradesh  32150                 34504         13844            280906\n",
       "west bengal     47876                 61158         12308            344124\n",
       "rajasthan       45684                 66278         11854            262200\n",
       "odisha          30480                 25588         10782             49206\n",
       "maharashtra     48974                 30368          9696            193202\n",
       "jharkhand       22826                 14186          7896             23910\n",
       "haryana         17110                 20016          7372             68414"
      ]
     },
     "execution_count": 59,
     "metadata": {},
     "output_type": "execute_result"
    }
   ],
   "source": [
    "statewise_df.sort_values(by ='Dowry_Deaths',ascending = False).head(10)"
   ]
  },
  {
   "cell_type": "markdown",
   "metadata": {},
   "source": [
    "Uttar Pradesh has maximum cases of Dowry Deaths."
   ]
  },
  {
   "cell_type": "markdown",
   "metadata": {},
   "source": [
    "#### Q5: Which state has maximum number of Domestic Cruelty"
   ]
  },
  {
   "cell_type": "code",
   "execution_count": 60,
   "metadata": {},
   "outputs": [
    {
     "data": {
      "text/html": [
       "<div>\n",
       "<style scoped>\n",
       "    .dataframe tbody tr th:only-of-type {\n",
       "        vertical-align: middle;\n",
       "    }\n",
       "\n",
       "    .dataframe tbody tr th {\n",
       "        vertical-align: top;\n",
       "    }\n",
       "\n",
       "    .dataframe thead th {\n",
       "        text-align: right;\n",
       "    }\n",
       "</style>\n",
       "<table border=\"1\" class=\"dataframe\">\n",
       "  <thead>\n",
       "    <tr style=\"text-align: right;\">\n",
       "      <th></th>\n",
       "      <th>Rape</th>\n",
       "      <th>Kidnapping_Abduction</th>\n",
       "      <th>Dowry_Deaths</th>\n",
       "      <th>Domestic_Cruelty</th>\n",
       "    </tr>\n",
       "    <tr>\n",
       "      <th>STATE/UT</th>\n",
       "      <th></th>\n",
       "      <th></th>\n",
       "      <th></th>\n",
       "      <th></th>\n",
       "    </tr>\n",
       "  </thead>\n",
       "  <tbody>\n",
       "    <tr>\n",
       "      <th>west bengal</th>\n",
       "      <td>47876</td>\n",
       "      <td>61158</td>\n",
       "      <td>12308</td>\n",
       "      <td>344124</td>\n",
       "    </tr>\n",
       "    <tr>\n",
       "      <th>andhra pradesh</th>\n",
       "      <td>32150</td>\n",
       "      <td>34504</td>\n",
       "      <td>13844</td>\n",
       "      <td>280906</td>\n",
       "    </tr>\n",
       "    <tr>\n",
       "      <th>rajasthan</th>\n",
       "      <td>45684</td>\n",
       "      <td>66278</td>\n",
       "      <td>11854</td>\n",
       "      <td>262200</td>\n",
       "    </tr>\n",
       "    <tr>\n",
       "      <th>uttar pradesh</th>\n",
       "      <td>51150</td>\n",
       "      <td>135906</td>\n",
       "      <td>57256</td>\n",
       "      <td>193738</td>\n",
       "    </tr>\n",
       "    <tr>\n",
       "      <th>maharashtra</th>\n",
       "      <td>48974</td>\n",
       "      <td>30368</td>\n",
       "      <td>9696</td>\n",
       "      <td>193202</td>\n",
       "    </tr>\n",
       "    <tr>\n",
       "      <th>gujarat</th>\n",
       "      <td>11644</td>\n",
       "      <td>34670</td>\n",
       "      <td>1108</td>\n",
       "      <td>146468</td>\n",
       "    </tr>\n",
       "    <tr>\n",
       "      <th>assam</th>\n",
       "      <td>40190</td>\n",
       "      <td>62074</td>\n",
       "      <td>3268</td>\n",
       "      <td>115300</td>\n",
       "    </tr>\n",
       "    <tr>\n",
       "      <th>kerala</th>\n",
       "      <td>20030</td>\n",
       "      <td>4452</td>\n",
       "      <td>700</td>\n",
       "      <td>111626</td>\n",
       "    </tr>\n",
       "    <tr>\n",
       "      <th>madhya pradesh</th>\n",
       "      <td>90996</td>\n",
       "      <td>35608</td>\n",
       "      <td>21090</td>\n",
       "      <td>102816</td>\n",
       "    </tr>\n",
       "    <tr>\n",
       "      <th>karnataka</th>\n",
       "      <td>15056</td>\n",
       "      <td>16262</td>\n",
       "      <td>7016</td>\n",
       "      <td>72706</td>\n",
       "    </tr>\n",
       "  </tbody>\n",
       "</table>\n",
       "</div>"
      ],
      "text/plain": [
       "                 Rape  Kidnapping_Abduction  Dowry_Deaths  Domestic_Cruelty\n",
       "STATE/UT                                                                   \n",
       "west bengal     47876                 61158         12308            344124\n",
       "andhra pradesh  32150                 34504         13844            280906\n",
       "rajasthan       45684                 66278         11854            262200\n",
       "uttar pradesh   51150                135906         57256            193738\n",
       "maharashtra     48974                 30368          9696            193202\n",
       "gujarat         11644                 34670          1108            146468\n",
       "assam           40190                 62074          3268            115300\n",
       "kerala          20030                  4452           700            111626\n",
       "madhya pradesh  90996                 35608         21090            102816\n",
       "karnataka       15056                 16262          7016             72706"
      ]
     },
     "execution_count": 60,
     "metadata": {},
     "output_type": "execute_result"
    }
   ],
   "source": [
    "statewise_df.sort_values(by ='Domestic_Cruelty',ascending = False).head(10)"
   ]
  },
  {
   "cell_type": "markdown",
   "metadata": {},
   "source": [
    "West bengal has resister maximum number of domestic cruelty cases."
   ]
  },
  {
   "cell_type": "markdown",
   "metadata": {},
   "source": [
    "#### Q4: TODO - ask a question here and answer it below"
   ]
  },
  {
   "cell_type": "code",
   "execution_count": 61,
   "metadata": {},
   "outputs": [],
   "source": [
    "import jovian"
   ]
  },
  {
   "cell_type": "code",
   "execution_count": 62,
   "metadata": {},
   "outputs": [
    {
     "data": {
      "application/javascript": [
       "window.require && require([\"base/js/namespace\"],function(Jupyter){Jupyter.notebook.save_checkpoint()})"
      ],
      "text/plain": [
       "<IPython.core.display.Javascript object>"
      ]
     },
     "metadata": {},
     "output_type": "display_data"
    },
    {
     "name": "stdout",
     "output_type": "stream",
     "text": [
      "[jovian] Updating notebook \"renuverma55/zerotopandas-course-project-starter\" on https://jovian.ai\u001b[0m\n",
      "[jovian] Committed successfully! https://jovian.ai/renuverma55/zerotopandas-course-project-starter\u001b[0m\n"
     ]
    },
    {
     "data": {
      "text/plain": [
       "'https://jovian.ai/renuverma55/zerotopandas-course-project-starter'"
      ]
     },
     "execution_count": 62,
     "metadata": {},
     "output_type": "execute_result"
    }
   ],
   "source": [
    "jovian.commit()"
   ]
  },
  {
   "cell_type": "markdown",
   "metadata": {},
   "source": [
    "## Inferences and Conclusion\n",
    "\n",
    "1.Total number of reported crime cases is more than 5 million in the span of 2001-2014. This is very depressing  figure.\n",
    "\n",
    "2. Madhaya pradesh has topped in the number of Rape cases.\n",
    "\n",
    "3. Uttar pradesh has highest number of Kidnapping as well as highest number of dowry Cases.\n",
    "\n",
    "4. on Surprise West Bengal has maximum number of  reported domestic cruelty cases in indiz"
   ]
  },
  {
   "cell_type": "code",
   "execution_count": 35,
   "metadata": {},
   "outputs": [],
   "source": [
    "import jovian"
   ]
  },
  {
   "cell_type": "code",
   "execution_count": 67,
   "metadata": {},
   "outputs": [
    {
     "data": {
      "application/javascript": [
       "window.require && require([\"base/js/namespace\"],function(Jupyter){Jupyter.notebook.save_checkpoint()})"
      ],
      "text/plain": [
       "<IPython.core.display.Javascript object>"
      ]
     },
     "metadata": {},
     "output_type": "display_data"
    },
    {
     "name": "stdout",
     "output_type": "stream",
     "text": [
      "[jovian] Updating notebook \"renuverma55/zerotopandas-course-project-starter\" on https://jovian.ai\u001b[0m\n",
      "[jovian] Committed successfully! https://jovian.ai/renuverma55/zerotopandas-course-project-starter\u001b[0m\n"
     ]
    },
    {
     "data": {
      "text/plain": [
       "'https://jovian.ai/renuverma55/zerotopandas-course-project-starter'"
      ]
     },
     "execution_count": 67,
     "metadata": {},
     "output_type": "execute_result"
    }
   ],
   "source": [
    "jovian.commit()"
   ]
  },
  {
   "cell_type": "markdown",
   "metadata": {},
   "source": [
    "## References and Future Work\n",
    "\n",
    "https://jovian.ml/learn/data-analysis-with-python-zero-to-pandas."
   ]
  },
  {
   "cell_type": "code",
   "execution_count": 65,
   "metadata": {},
   "outputs": [],
   "source": [
    "import jovian"
   ]
  }
 ],
 "metadata": {
  "language_info": {
   "codemirror_mode": {
    "name": "ipython",
    "version": 3
   },
   "file_extension": ".py",
   "mimetype": "text/x-python",
   "name": "python",
   "nbconvert_exporter": "python",
   "pygments_lexer": "ipython3",
   "version": "3.9.6"
  }
 },
 "nbformat": 4,
 "nbformat_minor": 4
}